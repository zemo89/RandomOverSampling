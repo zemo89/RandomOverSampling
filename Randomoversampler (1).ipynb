{
 "cells": [
  {
   "cell_type": "markdown",
   "metadata": {},
   "source": [
    "# Imbalanced Dataset\n",
    "   \n",
    "   a dataset with uneven distribution of class is known as imbalanced dataset"
   ]
  },
  {
   "cell_type": "markdown",
   "metadata": {},
   "source": [
    "# Techniques to handle imbalanced dataset\n",
    "                            1] Downsampling the data\n",
    "                            2] Oversampling the data"
   ]
  },
  {
   "cell_type": "markdown",
   "metadata": {},
   "source": [
    "# Scenario where we can face problem of imbalanced dataset\n",
    "                       \n",
    "                       1] Cancer prediction\n",
    "                       2] E-mail Fraud\n",
    "                       3] Credit Card Fraud\n",
    "                       4] Diabetes prediction"
   ]
  },
  {
   "cell_type": "markdown",
   "metadata": {},
   "source": [
    "# Importing Libraries"
   ]
  },
  {
   "cell_type": "code",
   "execution_count": 12,
   "metadata": {},
   "outputs": [],
   "source": [
    "#Basic libraries\n",
    "import warnings\n",
    "import numpy as np\n",
    "import pandas as pd\n",
    "import seaborn as sns\n",
    "from collections import Counter\n",
    "import matplotlib.pyplot as plt\n",
    "warnings.filterwarnings('ignore')\n",
    "\n",
    "# library used for over sampling the data\n",
    "from imblearn.over_sampling import RandomOverSampler      "
   ]
  },
  {
   "cell_type": "markdown",
   "metadata": {},
   "source": [
    "# Reading the data\n",
    "              \n",
    "              for oversampling we are going to use a credict card fraud detection dataset \n",
    "              from kaggle this dataset has 30 independent features and one \"Class\" feature\n",
    "              as a dependent feature"
   ]
  },
  {
   "cell_type": "code",
   "execution_count": 2,
   "metadata": {},
   "outputs": [
    {
     "name": "stdout",
     "output_type": "stream",
     "text": [
      "total rows =  284807 total features =  31\n"
     ]
    }
   ],
   "source": [
    "credict_card = pd.read_csv('creditcard.csv')\n",
    "credict_card.head()\n",
    "print('total rows = ',credict_card.shape[0] , 'total features = ',credict_card.shape[1])"
   ]
  },
  {
   "cell_type": "markdown",
   "metadata": {},
   "source": [
    "# Visualize the distribution of class feature to check if dataset is balanced or        not"
   ]
  },
  {
   "cell_type": "code",
   "execution_count": 3,
   "metadata": {},
   "outputs": [
    {
     "name": "stdout",
     "output_type": "stream",
     "text": [
      "0    284315\n",
      "1       492\n",
      "Name: Class, dtype: int64\n"
     ]
    },
    {
     "data": {
      "image/png": "[encoded data removed]",
      "text/plain": [
       "<Figure size 576x504 with 1 Axes>"
      ]
     },
     "metadata": {
      "needs_background": "light"
     },
     "output_type": "display_data"
    }
   ],
   "source": [
    "plt.figure(figsize=(8,7))\n",
    "value_count = credict_card['Class'].value_counts()\n",
    "sns.countplot(credict_card['Class'])\n",
    "plt.xticks(np.arange(2),labels=['Normal','Fraud'])\n",
    "print(value_count)\n",
    "plt.show()"
   ]
  },
  {
   "cell_type": "markdown",
   "metadata": {},
   "source": [
    "# As we can see our data is heavely imbalanced with 284315 Normal cases and    492 as Fraud cases"
   ]
  },
  {
   "cell_type": "markdown",
   "metadata": {},
   "source": [
    "# we will perform the oversampling using imblearn library in    python"
   ]
  },
  {
   "cell_type": "code",
   "execution_count": 5,
   "metadata": {},
   "outputs": [
    {
     "name": "stdout",
     "output_type": "stream",
     "text": [
      "Normal Data Dimensions =  (284315, 31)\n",
      "Fraud Data Dimensions =  (492, 31)\n"
     ]
    }
   ],
   "source": [
    "# Dimensions before Over Sampling\n",
    "\n",
    "Normal = credict_card[credict_card['Class'] == 0]\n",
    "Fraud = credict_card[credict_card['Class'] == 1]\n",
    "print('Normal Data Dimensions = ',Normal.shape)\n",
    "print('Fraud Data Dimensions = ',Fraud.shape)"
   ]
  },
  {
   "cell_type": "code",
   "execution_count": 6,
   "metadata": {},
   "outputs": [],
   "source": [
    "# seperating dependent and independent features \n",
    "\n",
    "x = credict_card.drop('Class',axis = 1)\n",
    "y = credict_card['Class']"
   ]
  },
  {
   "cell_type": "code",
   "execution_count": 11,
   "metadata": {},
   "outputs": [],
   "source": [
    "# using RandomOverSampler from imblearn and checking for count of values after oversampling\n",
    "\n",
    "ros = RandomOverSampler(random_state=1)\n",
    "x_res , y_res = ros.fit_sample(x,y)"
   ]
  },
  {
   "cell_type": "code",
   "execution_count": 13,
   "metadata": {},
   "outputs": [
    {
     "name": "stdout",
     "output_type": "stream",
     "text": [
      "initial count of y was Counter({0: 284315, 1: 492})\n",
      "final count of y after oversampling is Counter({0: 284315, 1: 284315})\n"
     ]
    }
   ],
   "source": [
    "print('initial count of y was {}'.format(Counter(y)))\n",
    "print('final count of y after oversampling is {}'.format(Counter(y_res)))"
   ]
  },
  {
   "cell_type": "code",
   "execution_count": 17,
   "metadata": {},
   "outputs": [
    {
     "name": "stdout",
     "output_type": "stream",
     "text": [
      "1    284315\n",
      "0    284315\n",
      "Name: Class, dtype: int64\n"
     ]
    },
    {
     "data": {
      "image/png": "[encoded data removed]",
      "text/plain": [
       "<Figure size 576x504 with 1 Axes>"
      ]
     },
     "metadata": {
      "needs_background": "light"
     },
     "output_type": "display_data"
    }
   ],
   "source": [
    "# visualize data after oversampling\n",
    "print(y_res.value_counts())\n",
    "plt.figure(figsize=(8,7))\n",
    "sns.countplot(y_res)\n",
    "plt.xticks(np.arange(2),labels=['Normal','Fraud'])\n",
    "plt.show()"
   ]
  },
  {
   "cell_type": "code",
   "execution_count": null,
   "metadata": {},
   "outputs": [],
   "source": []
  }
 ],
 "metadata": {
  "kernelspec": {
   "display_name": "Python 3",
   "language": "python",
   "name": "python3"
  },
  "language_info": {
   "codemirror_mode": {
    "name": "ipython",
    "version": 3
   },
   "file_extension": ".py",
   "mimetype": "text/x-python",
   "name": "python",
   "nbconvert_exporter": "python",
   "pygments_lexer": "ipython3",
   "version": "3.8.3"
  }
 },
 "nbformat": 4,
 "nbformat_minor": 4
}
